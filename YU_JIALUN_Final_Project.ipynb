{
  "nbformat": 4,
  "nbformat_minor": 0,
  "metadata": {
    "colab": {
      "name": "YU_JIALUN_XU_XINYI_Final_Project",
      "provenance": []
    },
    "kernelspec": {
      "display_name": "Python 3",
      "name": "python3"
    }
  },
  "cells": [
    {
      "cell_type": "markdown",
      "metadata": {
        "id": "b_0ptolUxbJq"
      },
      "source": [
        "# **A. Data Cleaning**"
      ]
    },
    {
      "cell_type": "code",
      "metadata": {
        "id": "fUhqGjb4y2FM"
      },
      "source": [
        "import numpy as np\r\n",
        "import pandas as pd\r\n",
        "import matplotlib.pyplot as plt\r\n",
        "import seaborn as sns\r\n",
        "from sklearn.preprocessing import OrdinalEncoder\r\n",
        "from sklearn import preprocessing"
      ],
      "execution_count": 144,
      "outputs": []
    },
    {
      "cell_type": "code",
      "metadata": {
        "id": "Xpp2c-5vJcB_"
      },
      "source": [
        "df = pd.read_csv('Black_Friday.csv')"
      ],
      "execution_count": 145,
      "outputs": []
    },
    {
      "cell_type": "code",
      "metadata": {
        "id": "N7hSQmwVO8p_"
      },
      "source": [
        "def clean_data(df):\r\n",
        "  df['User_ID'] = df['User_ID'].astype('string')\r\n",
        "  df['Product_ID'] = df['Product_ID'].astype('string')\r\n",
        "  df['Age'] = pd.Categorical(df['Age'])\r\n",
        "  df['Age'] = df['Age'].cat.codes\r\n",
        "  df['Stay_In_Current_City_Years'] = pd.Categorical(df['Stay_In_Current_City_Years'])\r\n",
        "  df['Stay_In_Current_City_Years'] = df['Stay_In_Current_City_Years'].cat.codes\r\n",
        "  for key in ['Product_Category_1', 'Product_Category_2', 'Product_Category_3']:\r\n",
        "    if df[key].isnull().sum() < 0.5 * (len(df)):\r\n",
        "      df[key] = df[key].replace(np.nan, df[key].mean())\r\n",
        "    else:\r\n",
        "      df = df.drop(columns=key)\r\n",
        "  return df"
      ],
      "execution_count": 146,
      "outputs": []
    },
    {
      "cell_type": "code",
      "metadata": {
        "id": "K_xhjpWVSrtm"
      },
      "source": [
        "df = clean_data(df)"
      ],
      "execution_count": 147,
      "outputs": []
    },
    {
      "cell_type": "code",
      "metadata": {
        "colab": {
          "base_uri": "https://localhost:8080/",
          "height": 343
        },
        "id": "kpFzYFU6dHlP",
        "outputId": "b356f61b-13c4-4d32-850a-1a060b1304b8"
      },
      "source": [
        "df.head(10)"
      ],
      "execution_count": 148,
      "outputs": [
        {
          "output_type": "execute_result",
          "data": {
            "text/html": [
              "<div>\n",
              "<style scoped>\n",
              "    .dataframe tbody tr th:only-of-type {\n",
              "        vertical-align: middle;\n",
              "    }\n",
              "\n",
              "    .dataframe tbody tr th {\n",
              "        vertical-align: top;\n",
              "    }\n",
              "\n",
              "    .dataframe thead th {\n",
              "        text-align: right;\n",
              "    }\n",
              "</style>\n",
              "<table border=\"1\" class=\"dataframe\">\n",
              "  <thead>\n",
              "    <tr style=\"text-align: right;\">\n",
              "      <th></th>\n",
              "      <th>User_ID</th>\n",
              "      <th>Product_ID</th>\n",
              "      <th>Gender</th>\n",
              "      <th>Age</th>\n",
              "      <th>Occupation</th>\n",
              "      <th>City_Category</th>\n",
              "      <th>Stay_In_Current_City_Years</th>\n",
              "      <th>Marital_Status</th>\n",
              "      <th>Product_Category_1</th>\n",
              "      <th>Product_Category_2</th>\n",
              "      <th>Purchase</th>\n",
              "    </tr>\n",
              "  </thead>\n",
              "  <tbody>\n",
              "    <tr>\n",
              "      <th>0</th>\n",
              "      <td>1000001</td>\n",
              "      <td>P00069042</td>\n",
              "      <td>F</td>\n",
              "      <td>0</td>\n",
              "      <td>10</td>\n",
              "      <td>A</td>\n",
              "      <td>2</td>\n",
              "      <td>0</td>\n",
              "      <td>3</td>\n",
              "      <td>9.84253</td>\n",
              "      <td>8370</td>\n",
              "    </tr>\n",
              "    <tr>\n",
              "      <th>1</th>\n",
              "      <td>1000001</td>\n",
              "      <td>P00248942</td>\n",
              "      <td>F</td>\n",
              "      <td>0</td>\n",
              "      <td>10</td>\n",
              "      <td>A</td>\n",
              "      <td>2</td>\n",
              "      <td>0</td>\n",
              "      <td>1</td>\n",
              "      <td>6.00000</td>\n",
              "      <td>15200</td>\n",
              "    </tr>\n",
              "    <tr>\n",
              "      <th>2</th>\n",
              "      <td>1000001</td>\n",
              "      <td>P00087842</td>\n",
              "      <td>F</td>\n",
              "      <td>0</td>\n",
              "      <td>10</td>\n",
              "      <td>A</td>\n",
              "      <td>2</td>\n",
              "      <td>0</td>\n",
              "      <td>12</td>\n",
              "      <td>9.84253</td>\n",
              "      <td>1422</td>\n",
              "    </tr>\n",
              "    <tr>\n",
              "      <th>3</th>\n",
              "      <td>1000001</td>\n",
              "      <td>P00085442</td>\n",
              "      <td>F</td>\n",
              "      <td>0</td>\n",
              "      <td>10</td>\n",
              "      <td>A</td>\n",
              "      <td>2</td>\n",
              "      <td>0</td>\n",
              "      <td>12</td>\n",
              "      <td>14.00000</td>\n",
              "      <td>1057</td>\n",
              "    </tr>\n",
              "    <tr>\n",
              "      <th>4</th>\n",
              "      <td>1000002</td>\n",
              "      <td>P00285442</td>\n",
              "      <td>M</td>\n",
              "      <td>6</td>\n",
              "      <td>16</td>\n",
              "      <td>C</td>\n",
              "      <td>4</td>\n",
              "      <td>0</td>\n",
              "      <td>8</td>\n",
              "      <td>9.84253</td>\n",
              "      <td>7969</td>\n",
              "    </tr>\n",
              "    <tr>\n",
              "      <th>5</th>\n",
              "      <td>1000003</td>\n",
              "      <td>P00193542</td>\n",
              "      <td>M</td>\n",
              "      <td>2</td>\n",
              "      <td>15</td>\n",
              "      <td>A</td>\n",
              "      <td>3</td>\n",
              "      <td>0</td>\n",
              "      <td>1</td>\n",
              "      <td>2.00000</td>\n",
              "      <td>15227</td>\n",
              "    </tr>\n",
              "    <tr>\n",
              "      <th>6</th>\n",
              "      <td>1000004</td>\n",
              "      <td>P00184942</td>\n",
              "      <td>M</td>\n",
              "      <td>4</td>\n",
              "      <td>7</td>\n",
              "      <td>B</td>\n",
              "      <td>2</td>\n",
              "      <td>1</td>\n",
              "      <td>1</td>\n",
              "      <td>8.00000</td>\n",
              "      <td>19215</td>\n",
              "    </tr>\n",
              "    <tr>\n",
              "      <th>7</th>\n",
              "      <td>1000004</td>\n",
              "      <td>P00346142</td>\n",
              "      <td>M</td>\n",
              "      <td>4</td>\n",
              "      <td>7</td>\n",
              "      <td>B</td>\n",
              "      <td>2</td>\n",
              "      <td>1</td>\n",
              "      <td>1</td>\n",
              "      <td>15.00000</td>\n",
              "      <td>15854</td>\n",
              "    </tr>\n",
              "    <tr>\n",
              "      <th>8</th>\n",
              "      <td>1000004</td>\n",
              "      <td>P0097242</td>\n",
              "      <td>M</td>\n",
              "      <td>4</td>\n",
              "      <td>7</td>\n",
              "      <td>B</td>\n",
              "      <td>2</td>\n",
              "      <td>1</td>\n",
              "      <td>1</td>\n",
              "      <td>16.00000</td>\n",
              "      <td>15686</td>\n",
              "    </tr>\n",
              "    <tr>\n",
              "      <th>9</th>\n",
              "      <td>1000005</td>\n",
              "      <td>P00274942</td>\n",
              "      <td>M</td>\n",
              "      <td>2</td>\n",
              "      <td>20</td>\n",
              "      <td>A</td>\n",
              "      <td>1</td>\n",
              "      <td>1</td>\n",
              "      <td>8</td>\n",
              "      <td>9.84253</td>\n",
              "      <td>7871</td>\n",
              "    </tr>\n",
              "  </tbody>\n",
              "</table>\n",
              "</div>"
            ],
            "text/plain": [
              "   User_ID Product_ID Gender  ...  Product_Category_1  Product_Category_2 Purchase\n",
              "0  1000001  P00069042      F  ...                   3             9.84253     8370\n",
              "1  1000001  P00248942      F  ...                   1             6.00000    15200\n",
              "2  1000001  P00087842      F  ...                  12             9.84253     1422\n",
              "3  1000001  P00085442      F  ...                  12            14.00000     1057\n",
              "4  1000002  P00285442      M  ...                   8             9.84253     7969\n",
              "5  1000003  P00193542      M  ...                   1             2.00000    15227\n",
              "6  1000004  P00184942      M  ...                   1             8.00000    19215\n",
              "7  1000004  P00346142      M  ...                   1            15.00000    15854\n",
              "8  1000004   P0097242      M  ...                   1            16.00000    15686\n",
              "9  1000005  P00274942      M  ...                   8             9.84253     7871\n",
              "\n",
              "[10 rows x 11 columns]"
            ]
          },
          "metadata": {
            "tags": []
          },
          "execution_count": 148
        }
      ]
    },
    {
      "cell_type": "markdown",
      "metadata": {
        "id": "37C-L_QQQYxZ"
      },
      "source": [
        "# **B. Data Analysis**"
      ]
    },
    {
      "cell_type": "markdown",
      "metadata": {
        "id": "mPYnBRZDQg9M"
      },
      "source": [
        "\r\n",
        "\r\n",
        "1.   Compare number of customers, and total amount of purchase for each gender? Is this a balance\r\n",
        "dataset with respect to gender? (5%)\r\n",
        "2.   Compare total amount of purchase for different cities. (5%)\r\n",
        "3. Compare total amount of purchase for combinations of gender and age. Which gender and age\r\n",
        "is better target for marketing campaign? (5%)\r\n",
        "4. Using box and whisker plot, compare distribution of purchase amounts among combinations of\r\n",
        "genders and age. (5%)\r\n",
        "5. Using box and whisker plot, compare distribution of purchase amounts among different\r\n",
        "occupations. (5%)\r\n",
        "6. (Optional) Create a heatmap or scatter plot showing correlation matrix of all of two numerical\r\n",
        "features. Which features are positively correlated with purchase amount? (+10%)\r\n"
      ]
    },
    {
      "cell_type": "markdown",
      "metadata": {
        "id": "p-0Hb5ssTEHK"
      },
      "source": [
        "**1**"
      ]
    },
    {
      "cell_type": "code",
      "metadata": {
        "colab": {
          "base_uri": "https://localhost:8080/",
          "height": 136
        },
        "id": "TrRzh4KQRVW2",
        "outputId": "5c2fa476-bd8c-4482-eec2-6e9dda9f4881"
      },
      "source": [
        "df.groupby(by = ['Gender']).sum()"
      ],
      "execution_count": 149,
      "outputs": [
        {
          "output_type": "execute_result",
          "data": {
            "text/html": [
              "<div>\n",
              "<style scoped>\n",
              "    .dataframe tbody tr th:only-of-type {\n",
              "        vertical-align: middle;\n",
              "    }\n",
              "\n",
              "    .dataframe tbody tr th {\n",
              "        vertical-align: top;\n",
              "    }\n",
              "\n",
              "    .dataframe thead th {\n",
              "        text-align: right;\n",
              "    }\n",
              "</style>\n",
              "<table border=\"1\" class=\"dataframe\">\n",
              "  <thead>\n",
              "    <tr style=\"text-align: right;\">\n",
              "      <th></th>\n",
              "      <th>Age</th>\n",
              "      <th>Occupation</th>\n",
              "      <th>Stay_In_Current_City_Years</th>\n",
              "      <th>Marital_Status</th>\n",
              "      <th>Product_Category_1</th>\n",
              "      <th>Product_Category_2</th>\n",
              "      <th>Purchase</th>\n",
              "    </tr>\n",
              "    <tr>\n",
              "      <th>Gender</th>\n",
              "      <th></th>\n",
              "      <th></th>\n",
              "      <th></th>\n",
              "      <th></th>\n",
              "      <th></th>\n",
              "      <th></th>\n",
              "      <th></th>\n",
              "    </tr>\n",
              "  </thead>\n",
              "  <tbody>\n",
              "    <tr>\n",
              "      <th>F</th>\n",
              "      <td>306850.0</td>\n",
              "      <td>826093</td>\n",
              "      <td>223372.0</td>\n",
              "      <td>51141</td>\n",
              "      <td>685678</td>\n",
              "      <td>1.219143e+06</td>\n",
              "      <td>1078358205</td>\n",
              "    </tr>\n",
              "    <tr>\n",
              "      <th>M</th>\n",
              "      <td>935479.0</td>\n",
              "      <td>3199225</td>\n",
              "      <td>702715.0</td>\n",
              "      <td>152405</td>\n",
              "      <td>1952462</td>\n",
              "      <td>3.682397e+06</td>\n",
              "      <td>3568533248</td>\n",
              "    </tr>\n",
              "  </tbody>\n",
              "</table>\n",
              "</div>"
            ],
            "text/plain": [
              "             Age  Occupation  ...  Product_Category_2    Purchase\n",
              "Gender                        ...                                \n",
              "F       306850.0      826093  ...        1.219143e+06  1078358205\n",
              "M       935479.0     3199225  ...        3.682397e+06  3568533248\n",
              "\n",
              "[2 rows x 7 columns]"
            ]
          },
          "metadata": {
            "tags": []
          },
          "execution_count": 149
        }
      ]
    },
    {
      "cell_type": "code",
      "metadata": {
        "colab": {
          "base_uri": "https://localhost:8080/"
        },
        "id": "3-ugJSVSS9HW",
        "outputId": "f8a76de5-5a7b-4186-8c67-04679c79727c"
      },
      "source": [
        "print('There are 306850 female customers and 935479 male customers. The total amount of purchase from female customers are 1078358205 and total amount of purchase from male customers is almost three times as the former, which is 3568533248. Therefore, it is not a balance dataset with respect to gender')"
      ],
      "execution_count": 150,
      "outputs": [
        {
          "output_type": "stream",
          "text": [
            "There are 306850 female customers and 935479 male customers. The total amount of purchase from female customers are 1078358205 and total amount of purchase from male customers is almost three times as the former, which is 3568533248. Therefore, it is not a balance dataset with respect to gender\n"
          ],
          "name": "stdout"
        }
      ]
    },
    {
      "cell_type": "markdown",
      "metadata": {
        "id": "Vv6ghMI7THYe"
      },
      "source": [
        "**2**"
      ]
    },
    {
      "cell_type": "code",
      "metadata": {
        "colab": {
          "base_uri": "https://localhost:8080/",
          "height": 166
        },
        "id": "zHFUoOqmShpc",
        "outputId": "043a5379-389e-4480-bfe0-89ba3573063b"
      },
      "source": [
        "df.groupby(by = ['City_Category']).sum()"
      ],
      "execution_count": 151,
      "outputs": [
        {
          "output_type": "execute_result",
          "data": {
            "text/html": [
              "<div>\n",
              "<style scoped>\n",
              "    .dataframe tbody tr th:only-of-type {\n",
              "        vertical-align: middle;\n",
              "    }\n",
              "\n",
              "    .dataframe tbody tr th {\n",
              "        vertical-align: top;\n",
              "    }\n",
              "\n",
              "    .dataframe thead th {\n",
              "        text-align: right;\n",
              "    }\n",
              "</style>\n",
              "<table border=\"1\" class=\"dataframe\">\n",
              "  <thead>\n",
              "    <tr style=\"text-align: right;\">\n",
              "      <th></th>\n",
              "      <th>Age</th>\n",
              "      <th>Occupation</th>\n",
              "      <th>Stay_In_Current_City_Years</th>\n",
              "      <th>Marital_Status</th>\n",
              "      <th>Product_Category_1</th>\n",
              "      <th>Product_Category_2</th>\n",
              "      <th>Purchase</th>\n",
              "    </tr>\n",
              "    <tr>\n",
              "      <th>City_Category</th>\n",
              "      <th></th>\n",
              "      <th></th>\n",
              "      <th></th>\n",
              "      <th></th>\n",
              "      <th></th>\n",
              "      <th></th>\n",
              "      <th></th>\n",
              "    </tr>\n",
              "  </thead>\n",
              "  <tbody>\n",
              "    <tr>\n",
              "      <th>A</th>\n",
              "      <td>305885.0</td>\n",
              "      <td>1054480</td>\n",
              "      <td>242915.0</td>\n",
              "      <td>51155</td>\n",
              "      <td>729146</td>\n",
              "      <td>1.328584e+06</td>\n",
              "      <td>1200686706</td>\n",
              "    </tr>\n",
              "    <tr>\n",
              "      <th>B</th>\n",
              "      <td>517685.0</td>\n",
              "      <td>1670972</td>\n",
              "      <td>393414.0</td>\n",
              "      <td>85473</td>\n",
              "      <td>1112042</td>\n",
              "      <td>2.062119e+06</td>\n",
              "      <td>1928963340</td>\n",
              "    </tr>\n",
              "    <tr>\n",
              "      <th>C</th>\n",
              "      <td>418759.0</td>\n",
              "      <td>1299866</td>\n",
              "      <td>289758.0</td>\n",
              "      <td>66918</td>\n",
              "      <td>796952</td>\n",
              "      <td>1.510838e+06</td>\n",
              "      <td>1517241407</td>\n",
              "    </tr>\n",
              "  </tbody>\n",
              "</table>\n",
              "</div>"
            ],
            "text/plain": [
              "                    Age  Occupation  ...  Product_Category_2    Purchase\n",
              "City_Category                        ...                                \n",
              "A              305885.0     1054480  ...        1.328584e+06  1200686706\n",
              "B              517685.0     1670972  ...        2.062119e+06  1928963340\n",
              "C              418759.0     1299866  ...        1.510838e+06  1517241407\n",
              "\n",
              "[3 rows x 7 columns]"
            ]
          },
          "metadata": {
            "tags": []
          },
          "execution_count": 151
        }
      ]
    },
    {
      "cell_type": "code",
      "metadata": {
        "colab": {
          "base_uri": "https://localhost:8080/"
        },
        "id": "s5l_bnXiS6Hb",
        "outputId": "3fbb4181-97e5-4be5-a0b3-6430c4f02359"
      },
      "source": [
        "print('Total amount of purchase for City A, B, C are 1200686706, 1928963340 and 1517241407 respectively')"
      ],
      "execution_count": 152,
      "outputs": [
        {
          "output_type": "stream",
          "text": [
            "Total amount of purchase for City A, B, C are 1200686706, 1928963340 and 1517241407 respectively\n"
          ],
          "name": "stdout"
        }
      ]
    },
    {
      "cell_type": "markdown",
      "metadata": {
        "id": "eqjxWSPTTNVI"
      },
      "source": [
        "**3**"
      ]
    },
    {
      "cell_type": "code",
      "metadata": {
        "colab": {
          "base_uri": "https://localhost:8080/",
          "height": 462
        },
        "id": "bJx6_qclTO0k",
        "outputId": "011678f2-41d8-420e-9ddb-7273d4202ff2"
      },
      "source": [
        "df_3 = df.groupby(by = ['Gender', 'Age'],as_index=False).sum()\r\n",
        "df_3"
      ],
      "execution_count": 153,
      "outputs": [
        {
          "output_type": "execute_result",
          "data": {
            "text/html": [
              "<div>\n",
              "<style scoped>\n",
              "    .dataframe tbody tr th:only-of-type {\n",
              "        vertical-align: middle;\n",
              "    }\n",
              "\n",
              "    .dataframe tbody tr th {\n",
              "        vertical-align: top;\n",
              "    }\n",
              "\n",
              "    .dataframe thead th {\n",
              "        text-align: right;\n",
              "    }\n",
              "</style>\n",
              "<table border=\"1\" class=\"dataframe\">\n",
              "  <thead>\n",
              "    <tr style=\"text-align: right;\">\n",
              "      <th></th>\n",
              "      <th>Gender</th>\n",
              "      <th>Age</th>\n",
              "      <th>Occupation</th>\n",
              "      <th>Stay_In_Current_City_Years</th>\n",
              "      <th>Marital_Status</th>\n",
              "      <th>Product_Category_1</th>\n",
              "      <th>Product_Category_2</th>\n",
              "      <th>Purchase</th>\n",
              "    </tr>\n",
              "  </thead>\n",
              "  <tbody>\n",
              "    <tr>\n",
              "      <th>0</th>\n",
              "      <td>F</td>\n",
              "      <td>0</td>\n",
              "      <td>38083</td>\n",
              "      <td>8068.0</td>\n",
              "      <td>0</td>\n",
              "      <td>24003</td>\n",
              "      <td>4.177107e+04</td>\n",
              "      <td>38858341</td>\n",
              "    </tr>\n",
              "    <tr>\n",
              "      <th>1</th>\n",
              "      <td>F</td>\n",
              "      <td>1</td>\n",
              "      <td>133324</td>\n",
              "      <td>39117.0</td>\n",
              "      <td>5667</td>\n",
              "      <td>119367</td>\n",
              "      <td>2.162965e+05</td>\n",
              "      <td>187842163</td>\n",
              "    </tr>\n",
              "    <tr>\n",
              "      <th>2</th>\n",
              "      <td>F</td>\n",
              "      <td>2</td>\n",
              "      <td>296941</td>\n",
              "      <td>87050.0</td>\n",
              "      <td>18449</td>\n",
              "      <td>254587</td>\n",
              "      <td>4.563167e+05</td>\n",
              "      <td>400580225</td>\n",
              "    </tr>\n",
              "    <tr>\n",
              "      <th>3</th>\n",
              "      <td>F</td>\n",
              "      <td>3</td>\n",
              "      <td>189776</td>\n",
              "      <td>47030.0</td>\n",
              "      <td>9381</td>\n",
              "      <td>138122</td>\n",
              "      <td>2.450980e+05</td>\n",
              "      <td>221952029</td>\n",
              "    </tr>\n",
              "    <tr>\n",
              "      <th>4</th>\n",
              "      <td>F</td>\n",
              "      <td>4</td>\n",
              "      <td>73663</td>\n",
              "      <td>17943.0</td>\n",
              "      <td>9063</td>\n",
              "      <td>68651</td>\n",
              "      <td>1.204793e+05</td>\n",
              "      <td>105771109</td>\n",
              "    </tr>\n",
              "    <tr>\n",
              "      <th>5</th>\n",
              "      <td>F</td>\n",
              "      <td>5</td>\n",
              "      <td>60795</td>\n",
              "      <td>15862.0</td>\n",
              "      <td>5727</td>\n",
              "      <td>52541</td>\n",
              "      <td>9.133061e+04</td>\n",
              "      <td>81836929</td>\n",
              "    </tr>\n",
              "    <tr>\n",
              "      <th>6</th>\n",
              "      <td>F</td>\n",
              "      <td>6</td>\n",
              "      <td>33511</td>\n",
              "      <td>8302.0</td>\n",
              "      <td>2854</td>\n",
              "      <td>28407</td>\n",
              "      <td>4.785098e+04</td>\n",
              "      <td>41517409</td>\n",
              "    </tr>\n",
              "    <tr>\n",
              "      <th>7</th>\n",
              "      <td>M</td>\n",
              "      <td>0</td>\n",
              "      <td>82149</td>\n",
              "      <td>16246.0</td>\n",
              "      <td>0</td>\n",
              "      <td>43451</td>\n",
              "      <td>8.463755e+04</td>\n",
              "      <td>84500331</td>\n",
              "    </tr>\n",
              "    <tr>\n",
              "      <th>8</th>\n",
              "      <td>M</td>\n",
              "      <td>1</td>\n",
              "      <td>476749</td>\n",
              "      <td>126224.0</td>\n",
              "      <td>13498</td>\n",
              "      <td>334211</td>\n",
              "      <td>6.522563e+05</td>\n",
              "      <td>649284767</td>\n",
              "    </tr>\n",
              "    <tr>\n",
              "      <th>9</th>\n",
              "      <td>M</td>\n",
              "      <td>2</td>\n",
              "      <td>1272841</td>\n",
              "      <td>289450.0</td>\n",
              "      <td>59361</td>\n",
              "      <td>781803</td>\n",
              "      <td>1.494455e+06</td>\n",
              "      <td>1448558028</td>\n",
              "    </tr>\n",
              "    <tr>\n",
              "      <th>10</th>\n",
              "      <td>M</td>\n",
              "      <td>3</td>\n",
              "      <td>691529</td>\n",
              "      <td>141181.0</td>\n",
              "      <td>30051</td>\n",
              "      <td>399624</td>\n",
              "      <td>7.434407e+05</td>\n",
              "      <td>714331811</td>\n",
              "    </tr>\n",
              "    <tr>\n",
              "      <th>11</th>\n",
              "      <td>M</td>\n",
              "      <td>4</td>\n",
              "      <td>277005</td>\n",
              "      <td>54592.0</td>\n",
              "      <td>20717</td>\n",
              "      <td>163238</td>\n",
              "      <td>2.944026e+05</td>\n",
              "      <td>276334871</td>\n",
              "    </tr>\n",
              "    <tr>\n",
              "      <th>12</th>\n",
              "      <td>M</td>\n",
              "      <td>5</td>\n",
              "      <td>247490</td>\n",
              "      <td>46421.0</td>\n",
              "      <td>19332</td>\n",
              "      <td>144350</td>\n",
              "      <td>2.622787e+05</td>\n",
              "      <td>254063010</td>\n",
              "    </tr>\n",
              "    <tr>\n",
              "      <th>13</th>\n",
              "      <td>M</td>\n",
              "      <td>6</td>\n",
              "      <td>151462</td>\n",
              "      <td>28601.0</td>\n",
              "      <td>9446</td>\n",
              "      <td>85785</td>\n",
              "      <td>1.509260e+05</td>\n",
              "      <td>141460430</td>\n",
              "    </tr>\n",
              "  </tbody>\n",
              "</table>\n",
              "</div>"
            ],
            "text/plain": [
              "   Gender  Age  Occupation  ...  Product_Category_1  Product_Category_2    Purchase\n",
              "0       F    0       38083  ...               24003        4.177107e+04    38858341\n",
              "1       F    1      133324  ...              119367        2.162965e+05   187842163\n",
              "2       F    2      296941  ...              254587        4.563167e+05   400580225\n",
              "3       F    3      189776  ...              138122        2.450980e+05   221952029\n",
              "4       F    4       73663  ...               68651        1.204793e+05   105771109\n",
              "5       F    5       60795  ...               52541        9.133061e+04    81836929\n",
              "6       F    6       33511  ...               28407        4.785098e+04    41517409\n",
              "7       M    0       82149  ...               43451        8.463755e+04    84500331\n",
              "8       M    1      476749  ...              334211        6.522563e+05   649284767\n",
              "9       M    2     1272841  ...              781803        1.494455e+06  1448558028\n",
              "10      M    3      691529  ...              399624        7.434407e+05   714331811\n",
              "11      M    4      277005  ...              163238        2.944026e+05   276334871\n",
              "12      M    5      247490  ...              144350        2.622787e+05   254063010\n",
              "13      M    6      151462  ...               85785        1.509260e+05   141460430\n",
              "\n",
              "[14 rows x 8 columns]"
            ]
          },
          "metadata": {
            "tags": []
          },
          "execution_count": 153
        }
      ]
    },
    {
      "cell_type": "code",
      "metadata": {
        "colab": {
          "base_uri": "https://localhost:8080/"
        },
        "id": "J0hOBfi0TbTH",
        "outputId": "80f38538-f945-46b7-b3bb-0c1b35d27e9f"
      },
      "source": [
        "print('Better targets are female whose age are in 26-35 and male whose age are in 26-35 as well. In a word, people between 26 and 35 are the best targets for marketing compaign.')"
      ],
      "execution_count": 154,
      "outputs": [
        {
          "output_type": "stream",
          "text": [
            "Better targets are female whose age are in 26-35 and male whose age are in 26-35 as well. In a word, people between 26 and 35 are the best targets for marketing compaign.\n"
          ],
          "name": "stdout"
        }
      ]
    },
    {
      "cell_type": "markdown",
      "metadata": {
        "id": "OlBjOr0AUpi7"
      },
      "source": [
        "**4**"
      ]
    },
    {
      "cell_type": "code",
      "metadata": {
        "colab": {
          "base_uri": "https://localhost:8080/",
          "height": 498
        },
        "id": "3SaBi6l9gA1d",
        "outputId": "4b855db2-d6d1-4d8e-d332-cdcffc7c3565"
      },
      "source": [
        "plt.figure(figsize=(8,8))\r\n",
        "sns.boxplot(y='Purchase', x='Age', data=df, hue='Gender',width=0.6)\r\n",
        "plt.show()"
      ],
      "execution_count": 155,
      "outputs": [
        {
          "output_type": "display_data",
          "data": {
            "image/png": "[encoded data removed]",
            "text/plain": [
              "<Figure size 576x576 with 1 Axes>"
            ]
          },
          "metadata": {
            "tags": [],
            "needs_background": "light"
          }
        }
      ]
    },
    {
      "cell_type": "markdown",
      "metadata": {
        "id": "9SHGmmeNWeEy"
      },
      "source": [
        "**5**"
      ]
    },
    {
      "cell_type": "code",
      "metadata": {
        "colab": {
          "base_uri": "https://localhost:8080/",
          "height": 498
        },
        "id": "56y5uNsBfmLa",
        "outputId": "966b6693-7341-4b37-a740-6c1a1772d72f"
      },
      "source": [
        "plt.figure(figsize=(8,8))\r\n",
        "sns.boxplot(y='Purchase', x='Occupation', data=df, width=0.7)\r\n",
        "plt.show()"
      ],
      "execution_count": 156,
      "outputs": [
        {
          "output_type": "display_data",
          "data": {
            "image/png": "[encoded data removed]",
            "text/plain": [
              "<Figure size 576x576 with 1 Axes>"
            ]
          },
          "metadata": {
            "tags": [],
            "needs_background": "light"
          }
        }
      ]
    },
    {
      "cell_type": "markdown",
      "metadata": {
        "id": "UGXf6Ww6gVJf"
      },
      "source": [
        "**6.(Optional) Create a heatmap or scatter plot showing correlation matrix of all of two numerical features. Which features are positively correlated with purchase amount? (+10%)**"
      ]
    },
    {
      "cell_type": "code",
      "metadata": {
        "colab": {
          "base_uri": "https://localhost:8080/",
          "height": 547
        },
        "id": "0yiEo5fCgmCI",
        "outputId": "37172ca8-e13f-4118-ad01-0ad830598a5f"
      },
      "source": [
        "df_corr = df\r\n",
        "corr = df_corr.corr()\r\n",
        "mask = np.triu(np.ones_like(corr, dtype=bool))\r\n",
        "f, ax = plt.subplots(figsize=(8, 8))\r\n",
        "cmap = sns.diverging_palette(250, 20, as_cmap=True)\r\n",
        "sns.heatmap(corr, mask=mask, cmap=cmap, vmax=0.3, center=0, square=True, linewidths=0.1, cbar_kws={\"shrink\": 0.5})"
      ],
      "execution_count": 157,
      "outputs": [
        {
          "output_type": "execute_result",
          "data": {
            "text/plain": [
              "<matplotlib.axes._subplots.AxesSubplot at 0x7f65c2039e48>"
            ]
          },
          "metadata": {
            "tags": []
          },
          "execution_count": 157
        },
        {
          "output_type": "display_data",
          "data": {
            "image/png": "[encoded data removed]",
            "text/plain": [
              "<Figure size 576x576 with 2 Axes>"
            ]
          },
          "metadata": {
            "tags": [],
            "needs_background": "light"
          }
        }
      ]
    },
    {
      "cell_type": "markdown",
      "metadata": {
        "id": "QoP8MjzihMiO"
      },
      "source": [
        "# **C. Data Modeling**"
      ]
    },
    {
      "cell_type": "markdown",
      "metadata": {
        "id": "1nRAyJL2jxP5"
      },
      "source": [
        "## **1.1 Dummy Variable**"
      ]
    },
    {
      "cell_type": "code",
      "metadata": {
        "colab": {
          "base_uri": "https://localhost:8080/",
          "height": 343
        },
        "id": "2UGXmPkljwXq",
        "outputId": "d4e5385d-95ee-429c-af86-bf2892b5be29"
      },
      "source": [
        "dummy_gender = pd.get_dummies(df['Gender'])\r\n",
        "dummy_city = pd.get_dummies(df['City_Category'])\r\n",
        "df = df.merge(dummy_gender, left_index=True, right_index=True)\r\n",
        "df = df.merge(dummy_city, left_index=True, right_index=True)\r\n",
        "df.head(10)"
      ],
      "execution_count": 158,
      "outputs": [
        {
          "output_type": "execute_result",
          "data": {
            "text/html": [
              "<div>\n",
              "<style scoped>\n",
              "    .dataframe tbody tr th:only-of-type {\n",
              "        vertical-align: middle;\n",
              "    }\n",
              "\n",
              "    .dataframe tbody tr th {\n",
              "        vertical-align: top;\n",
              "    }\n",
              "\n",
              "    .dataframe thead th {\n",
              "        text-align: right;\n",
              "    }\n",
              "</style>\n",
              "<table border=\"1\" class=\"dataframe\">\n",
              "  <thead>\n",
              "    <tr style=\"text-align: right;\">\n",
              "      <th></th>\n",
              "      <th>User_ID</th>\n",
              "      <th>Product_ID</th>\n",
              "      <th>Gender</th>\n",
              "      <th>Age</th>\n",
              "      <th>Occupation</th>\n",
              "      <th>City_Category</th>\n",
              "      <th>Stay_In_Current_City_Years</th>\n",
              "      <th>Marital_Status</th>\n",
              "      <th>Product_Category_1</th>\n",
              "      <th>Product_Category_2</th>\n",
              "      <th>Purchase</th>\n",
              "      <th>F</th>\n",
              "      <th>M</th>\n",
              "      <th>A</th>\n",
              "      <th>B</th>\n",
              "      <th>C</th>\n",
              "    </tr>\n",
              "  </thead>\n",
              "  <tbody>\n",
              "    <tr>\n",
              "      <th>0</th>\n",
              "      <td>1000001</td>\n",
              "      <td>P00069042</td>\n",
              "      <td>F</td>\n",
              "      <td>0</td>\n",
              "      <td>10</td>\n",
              "      <td>A</td>\n",
              "      <td>2</td>\n",
              "      <td>0</td>\n",
              "      <td>3</td>\n",
              "      <td>9.84253</td>\n",
              "      <td>8370</td>\n",
              "      <td>1</td>\n",
              "      <td>0</td>\n",
              "      <td>1</td>\n",
              "      <td>0</td>\n",
              "      <td>0</td>\n",
              "    </tr>\n",
              "    <tr>\n",
              "      <th>1</th>\n",
              "      <td>1000001</td>\n",
              "      <td>P00248942</td>\n",
              "      <td>F</td>\n",
              "      <td>0</td>\n",
              "      <td>10</td>\n",
              "      <td>A</td>\n",
              "      <td>2</td>\n",
              "      <td>0</td>\n",
              "      <td>1</td>\n",
              "      <td>6.00000</td>\n",
              "      <td>15200</td>\n",
              "      <td>1</td>\n",
              "      <td>0</td>\n",
              "      <td>1</td>\n",
              "      <td>0</td>\n",
              "      <td>0</td>\n",
              "    </tr>\n",
              "    <tr>\n",
              "      <th>2</th>\n",
              "      <td>1000001</td>\n",
              "      <td>P00087842</td>\n",
              "      <td>F</td>\n",
              "      <td>0</td>\n",
              "      <td>10</td>\n",
              "      <td>A</td>\n",
              "      <td>2</td>\n",
              "      <td>0</td>\n",
              "      <td>12</td>\n",
              "      <td>9.84253</td>\n",
              "      <td>1422</td>\n",
              "      <td>1</td>\n",
              "      <td>0</td>\n",
              "      <td>1</td>\n",
              "      <td>0</td>\n",
              "      <td>0</td>\n",
              "    </tr>\n",
              "    <tr>\n",
              "      <th>3</th>\n",
              "      <td>1000001</td>\n",
              "      <td>P00085442</td>\n",
              "      <td>F</td>\n",
              "      <td>0</td>\n",
              "      <td>10</td>\n",
              "      <td>A</td>\n",
              "      <td>2</td>\n",
              "      <td>0</td>\n",
              "      <td>12</td>\n",
              "      <td>14.00000</td>\n",
              "      <td>1057</td>\n",
              "      <td>1</td>\n",
              "      <td>0</td>\n",
              "      <td>1</td>\n",
              "      <td>0</td>\n",
              "      <td>0</td>\n",
              "    </tr>\n",
              "    <tr>\n",
              "      <th>4</th>\n",
              "      <td>1000002</td>\n",
              "      <td>P00285442</td>\n",
              "      <td>M</td>\n",
              "      <td>6</td>\n",
              "      <td>16</td>\n",
              "      <td>C</td>\n",
              "      <td>4</td>\n",
              "      <td>0</td>\n",
              "      <td>8</td>\n",
              "      <td>9.84253</td>\n",
              "      <td>7969</td>\n",
              "      <td>0</td>\n",
              "      <td>1</td>\n",
              "      <td>0</td>\n",
              "      <td>0</td>\n",
              "      <td>1</td>\n",
              "    </tr>\n",
              "    <tr>\n",
              "      <th>5</th>\n",
              "      <td>1000003</td>\n",
              "      <td>P00193542</td>\n",
              "      <td>M</td>\n",
              "      <td>2</td>\n",
              "      <td>15</td>\n",
              "      <td>A</td>\n",
              "      <td>3</td>\n",
              "      <td>0</td>\n",
              "      <td>1</td>\n",
              "      <td>2.00000</td>\n",
              "      <td>15227</td>\n",
              "      <td>0</td>\n",
              "      <td>1</td>\n",
              "      <td>1</td>\n",
              "      <td>0</td>\n",
              "      <td>0</td>\n",
              "    </tr>\n",
              "    <tr>\n",
              "      <th>6</th>\n",
              "      <td>1000004</td>\n",
              "      <td>P00184942</td>\n",
              "      <td>M</td>\n",
              "      <td>4</td>\n",
              "      <td>7</td>\n",
              "      <td>B</td>\n",
              "      <td>2</td>\n",
              "      <td>1</td>\n",
              "      <td>1</td>\n",
              "      <td>8.00000</td>\n",
              "      <td>19215</td>\n",
              "      <td>0</td>\n",
              "      <td>1</td>\n",
              "      <td>0</td>\n",
              "      <td>1</td>\n",
              "      <td>0</td>\n",
              "    </tr>\n",
              "    <tr>\n",
              "      <th>7</th>\n",
              "      <td>1000004</td>\n",
              "      <td>P00346142</td>\n",
              "      <td>M</td>\n",
              "      <td>4</td>\n",
              "      <td>7</td>\n",
              "      <td>B</td>\n",
              "      <td>2</td>\n",
              "      <td>1</td>\n",
              "      <td>1</td>\n",
              "      <td>15.00000</td>\n",
              "      <td>15854</td>\n",
              "      <td>0</td>\n",
              "      <td>1</td>\n",
              "      <td>0</td>\n",
              "      <td>1</td>\n",
              "      <td>0</td>\n",
              "    </tr>\n",
              "    <tr>\n",
              "      <th>8</th>\n",
              "      <td>1000004</td>\n",
              "      <td>P0097242</td>\n",
              "      <td>M</td>\n",
              "      <td>4</td>\n",
              "      <td>7</td>\n",
              "      <td>B</td>\n",
              "      <td>2</td>\n",
              "      <td>1</td>\n",
              "      <td>1</td>\n",
              "      <td>16.00000</td>\n",
              "      <td>15686</td>\n",
              "      <td>0</td>\n",
              "      <td>1</td>\n",
              "      <td>0</td>\n",
              "      <td>1</td>\n",
              "      <td>0</td>\n",
              "    </tr>\n",
              "    <tr>\n",
              "      <th>9</th>\n",
              "      <td>1000005</td>\n",
              "      <td>P00274942</td>\n",
              "      <td>M</td>\n",
              "      <td>2</td>\n",
              "      <td>20</td>\n",
              "      <td>A</td>\n",
              "      <td>1</td>\n",
              "      <td>1</td>\n",
              "      <td>8</td>\n",
              "      <td>9.84253</td>\n",
              "      <td>7871</td>\n",
              "      <td>0</td>\n",
              "      <td>1</td>\n",
              "      <td>1</td>\n",
              "      <td>0</td>\n",
              "      <td>0</td>\n",
              "    </tr>\n",
              "  </tbody>\n",
              "</table>\n",
              "</div>"
            ],
            "text/plain": [
              "   User_ID Product_ID Gender  Age  Occupation  ...  F  M  A  B  C\n",
              "0  1000001  P00069042      F    0          10  ...  1  0  1  0  0\n",
              "1  1000001  P00248942      F    0          10  ...  1  0  1  0  0\n",
              "2  1000001  P00087842      F    0          10  ...  1  0  1  0  0\n",
              "3  1000001  P00085442      F    0          10  ...  1  0  1  0  0\n",
              "4  1000002  P00285442      M    6          16  ...  0  1  0  0  1\n",
              "5  1000003  P00193542      M    2          15  ...  0  1  1  0  0\n",
              "6  1000004  P00184942      M    4           7  ...  0  1  0  1  0\n",
              "7  1000004  P00346142      M    4           7  ...  0  1  0  1  0\n",
              "8  1000004   P0097242      M    4           7  ...  0  1  0  1  0\n",
              "9  1000005  P00274942      M    2          20  ...  0  1  1  0  0\n",
              "\n",
              "[10 rows x 16 columns]"
            ]
          },
          "metadata": {
            "tags": []
          },
          "execution_count": 158
        }
      ]
    },
    {
      "cell_type": "markdown",
      "metadata": {
        "id": "zxn9b8Hoosmg"
      },
      "source": [
        "## **1.2 Normalization**"
      ]
    },
    {
      "cell_type": "code",
      "metadata": {
        "id": "t7zk3XR-LNX4"
      },
      "source": [
        "df2 = df\r\n",
        "df2 = df2.drop(columns = ['Product_ID','User_ID','Gender','City_Category'])"
      ],
      "execution_count": 159,
      "outputs": []
    },
    {
      "cell_type": "code",
      "metadata": {
        "id": "n87o_ZB8K0y2"
      },
      "source": [
        "def normalize(df):\r\n",
        "  result = df\r\n",
        "  for key in df.columns:\r\n",
        "    if key != 'Purchase':\r\n",
        "      max = df[key].max()\r\n",
        "      min = df[key].min()\r\n",
        "      result[key] = (df[key] - min) / (max - min)\r\n",
        "  return result"
      ],
      "execution_count": 160,
      "outputs": []
    },
    {
      "cell_type": "code",
      "metadata": {
        "id": "-ss0k-FzK15z"
      },
      "source": [
        "df2 = normalize(df2)"
      ],
      "execution_count": 161,
      "outputs": []
    },
    {
      "cell_type": "code",
      "metadata": {
        "colab": {
          "base_uri": "https://localhost:8080/",
          "height": 343
        },
        "id": "pjwDOsCvn2ai",
        "outputId": "e99590de-a515-41ee-ee69-a4500dca1cc6"
      },
      "source": [
        "df2.head(10)"
      ],
      "execution_count": 162,
      "outputs": [
        {
          "output_type": "execute_result",
          "data": {
            "text/html": [
              "<div>\n",
              "<style scoped>\n",
              "    .dataframe tbody tr th:only-of-type {\n",
              "        vertical-align: middle;\n",
              "    }\n",
              "\n",
              "    .dataframe tbody tr th {\n",
              "        vertical-align: top;\n",
              "    }\n",
              "\n",
              "    .dataframe thead th {\n",
              "        text-align: right;\n",
              "    }\n",
              "</style>\n",
              "<table border=\"1\" class=\"dataframe\">\n",
              "  <thead>\n",
              "    <tr style=\"text-align: right;\">\n",
              "      <th></th>\n",
              "      <th>Age</th>\n",
              "      <th>Occupation</th>\n",
              "      <th>Stay_In_Current_City_Years</th>\n",
              "      <th>Marital_Status</th>\n",
              "      <th>Product_Category_1</th>\n",
              "      <th>Product_Category_2</th>\n",
              "      <th>Purchase</th>\n",
              "      <th>F</th>\n",
              "      <th>M</th>\n",
              "      <th>A</th>\n",
              "      <th>B</th>\n",
              "      <th>C</th>\n",
              "    </tr>\n",
              "  </thead>\n",
              "  <tbody>\n",
              "    <tr>\n",
              "      <th>0</th>\n",
              "      <td>0.000000</td>\n",
              "      <td>0.50</td>\n",
              "      <td>0.50</td>\n",
              "      <td>0.0</td>\n",
              "      <td>0.117647</td>\n",
              "      <td>0.490158</td>\n",
              "      <td>8370</td>\n",
              "      <td>1.0</td>\n",
              "      <td>0.0</td>\n",
              "      <td>1.0</td>\n",
              "      <td>0.0</td>\n",
              "      <td>0.0</td>\n",
              "    </tr>\n",
              "    <tr>\n",
              "      <th>1</th>\n",
              "      <td>0.000000</td>\n",
              "      <td>0.50</td>\n",
              "      <td>0.50</td>\n",
              "      <td>0.0</td>\n",
              "      <td>0.000000</td>\n",
              "      <td>0.250000</td>\n",
              "      <td>15200</td>\n",
              "      <td>1.0</td>\n",
              "      <td>0.0</td>\n",
              "      <td>1.0</td>\n",
              "      <td>0.0</td>\n",
              "      <td>0.0</td>\n",
              "    </tr>\n",
              "    <tr>\n",
              "      <th>2</th>\n",
              "      <td>0.000000</td>\n",
              "      <td>0.50</td>\n",
              "      <td>0.50</td>\n",
              "      <td>0.0</td>\n",
              "      <td>0.647059</td>\n",
              "      <td>0.490158</td>\n",
              "      <td>1422</td>\n",
              "      <td>1.0</td>\n",
              "      <td>0.0</td>\n",
              "      <td>1.0</td>\n",
              "      <td>0.0</td>\n",
              "      <td>0.0</td>\n",
              "    </tr>\n",
              "    <tr>\n",
              "      <th>3</th>\n",
              "      <td>0.000000</td>\n",
              "      <td>0.50</td>\n",
              "      <td>0.50</td>\n",
              "      <td>0.0</td>\n",
              "      <td>0.647059</td>\n",
              "      <td>0.750000</td>\n",
              "      <td>1057</td>\n",
              "      <td>1.0</td>\n",
              "      <td>0.0</td>\n",
              "      <td>1.0</td>\n",
              "      <td>0.0</td>\n",
              "      <td>0.0</td>\n",
              "    </tr>\n",
              "    <tr>\n",
              "      <th>4</th>\n",
              "      <td>1.000000</td>\n",
              "      <td>0.80</td>\n",
              "      <td>1.00</td>\n",
              "      <td>0.0</td>\n",
              "      <td>0.411765</td>\n",
              "      <td>0.490158</td>\n",
              "      <td>7969</td>\n",
              "      <td>0.0</td>\n",
              "      <td>1.0</td>\n",
              "      <td>0.0</td>\n",
              "      <td>0.0</td>\n",
              "      <td>1.0</td>\n",
              "    </tr>\n",
              "    <tr>\n",
              "      <th>5</th>\n",
              "      <td>0.333333</td>\n",
              "      <td>0.75</td>\n",
              "      <td>0.75</td>\n",
              "      <td>0.0</td>\n",
              "      <td>0.000000</td>\n",
              "      <td>0.000000</td>\n",
              "      <td>15227</td>\n",
              "      <td>0.0</td>\n",
              "      <td>1.0</td>\n",
              "      <td>1.0</td>\n",
              "      <td>0.0</td>\n",
              "      <td>0.0</td>\n",
              "    </tr>\n",
              "    <tr>\n",
              "      <th>6</th>\n",
              "      <td>0.666667</td>\n",
              "      <td>0.35</td>\n",
              "      <td>0.50</td>\n",
              "      <td>1.0</td>\n",
              "      <td>0.000000</td>\n",
              "      <td>0.375000</td>\n",
              "      <td>19215</td>\n",
              "      <td>0.0</td>\n",
              "      <td>1.0</td>\n",
              "      <td>0.0</td>\n",
              "      <td>1.0</td>\n",
              "      <td>0.0</td>\n",
              "    </tr>\n",
              "    <tr>\n",
              "      <th>7</th>\n",
              "      <td>0.666667</td>\n",
              "      <td>0.35</td>\n",
              "      <td>0.50</td>\n",
              "      <td>1.0</td>\n",
              "      <td>0.000000</td>\n",
              "      <td>0.812500</td>\n",
              "      <td>15854</td>\n",
              "      <td>0.0</td>\n",
              "      <td>1.0</td>\n",
              "      <td>0.0</td>\n",
              "      <td>1.0</td>\n",
              "      <td>0.0</td>\n",
              "    </tr>\n",
              "    <tr>\n",
              "      <th>8</th>\n",
              "      <td>0.666667</td>\n",
              "      <td>0.35</td>\n",
              "      <td>0.50</td>\n",
              "      <td>1.0</td>\n",
              "      <td>0.000000</td>\n",
              "      <td>0.875000</td>\n",
              "      <td>15686</td>\n",
              "      <td>0.0</td>\n",
              "      <td>1.0</td>\n",
              "      <td>0.0</td>\n",
              "      <td>1.0</td>\n",
              "      <td>0.0</td>\n",
              "    </tr>\n",
              "    <tr>\n",
              "      <th>9</th>\n",
              "      <td>0.333333</td>\n",
              "      <td>1.00</td>\n",
              "      <td>0.25</td>\n",
              "      <td>1.0</td>\n",
              "      <td>0.411765</td>\n",
              "      <td>0.490158</td>\n",
              "      <td>7871</td>\n",
              "      <td>0.0</td>\n",
              "      <td>1.0</td>\n",
              "      <td>1.0</td>\n",
              "      <td>0.0</td>\n",
              "      <td>0.0</td>\n",
              "    </tr>\n",
              "  </tbody>\n",
              "</table>\n",
              "</div>"
            ],
            "text/plain": [
              "        Age  Occupation  Stay_In_Current_City_Years  ...    A    B    C\n",
              "0  0.000000        0.50                        0.50  ...  1.0  0.0  0.0\n",
              "1  0.000000        0.50                        0.50  ...  1.0  0.0  0.0\n",
              "2  0.000000        0.50                        0.50  ...  1.0  0.0  0.0\n",
              "3  0.000000        0.50                        0.50  ...  1.0  0.0  0.0\n",
              "4  1.000000        0.80                        1.00  ...  0.0  0.0  1.0\n",
              "5  0.333333        0.75                        0.75  ...  1.0  0.0  0.0\n",
              "6  0.666667        0.35                        0.50  ...  0.0  1.0  0.0\n",
              "7  0.666667        0.35                        0.50  ...  0.0  1.0  0.0\n",
              "8  0.666667        0.35                        0.50  ...  0.0  1.0  0.0\n",
              "9  0.333333        1.00                        0.25  ...  1.0  0.0  0.0\n",
              "\n",
              "[10 rows x 12 columns]"
            ]
          },
          "metadata": {
            "tags": []
          },
          "execution_count": 162
        }
      ]
    },
    {
      "cell_type": "markdown",
      "metadata": {
        "id": "psP-dZjIo4PC"
      },
      "source": [
        "## **2. linear regression model**"
      ]
    },
    {
      "cell_type": "code",
      "metadata": {
        "id": "tlk6K6BYqZl5"
      },
      "source": [
        "from sklearn.model_selection import train_test_split\r\n",
        "from sklearn.preprocessing import StandardScaler\r\n",
        "from sklearn.linear_model import LinearRegression \r\n",
        "from sklearn.metrics import mean_squared_error, r2_score\r\n",
        "from sklearn.metrics import mean_absolute_error"
      ],
      "execution_count": 163,
      "outputs": []
    },
    {
      "cell_type": "code",
      "metadata": {
        "colab": {
          "base_uri": "https://localhost:8080/",
          "height": 195
        },
        "id": "ZgBVE5Ror8Xr",
        "outputId": "e951b666-e027-4277-c550-d548b446d022"
      },
      "source": [
        "df2.head(5)"
      ],
      "execution_count": 164,
      "outputs": [
        {
          "output_type": "execute_result",
          "data": {
            "text/html": [
              "<div>\n",
              "<style scoped>\n",
              "    .dataframe tbody tr th:only-of-type {\n",
              "        vertical-align: middle;\n",
              "    }\n",
              "\n",
              "    .dataframe tbody tr th {\n",
              "        vertical-align: top;\n",
              "    }\n",
              "\n",
              "    .dataframe thead th {\n",
              "        text-align: right;\n",
              "    }\n",
              "</style>\n",
              "<table border=\"1\" class=\"dataframe\">\n",
              "  <thead>\n",
              "    <tr style=\"text-align: right;\">\n",
              "      <th></th>\n",
              "      <th>Age</th>\n",
              "      <th>Occupation</th>\n",
              "      <th>Stay_In_Current_City_Years</th>\n",
              "      <th>Marital_Status</th>\n",
              "      <th>Product_Category_1</th>\n",
              "      <th>Product_Category_2</th>\n",
              "      <th>Purchase</th>\n",
              "      <th>F</th>\n",
              "      <th>M</th>\n",
              "      <th>A</th>\n",
              "      <th>B</th>\n",
              "      <th>C</th>\n",
              "    </tr>\n",
              "  </thead>\n",
              "  <tbody>\n",
              "    <tr>\n",
              "      <th>0</th>\n",
              "      <td>0.0</td>\n",
              "      <td>0.5</td>\n",
              "      <td>0.5</td>\n",
              "      <td>0.0</td>\n",
              "      <td>0.117647</td>\n",
              "      <td>0.490158</td>\n",
              "      <td>8370</td>\n",
              "      <td>1.0</td>\n",
              "      <td>0.0</td>\n",
              "      <td>1.0</td>\n",
              "      <td>0.0</td>\n",
              "      <td>0.0</td>\n",
              "    </tr>\n",
              "    <tr>\n",
              "      <th>1</th>\n",
              "      <td>0.0</td>\n",
              "      <td>0.5</td>\n",
              "      <td>0.5</td>\n",
              "      <td>0.0</td>\n",
              "      <td>0.000000</td>\n",
              "      <td>0.250000</td>\n",
              "      <td>15200</td>\n",
              "      <td>1.0</td>\n",
              "      <td>0.0</td>\n",
              "      <td>1.0</td>\n",
              "      <td>0.0</td>\n",
              "      <td>0.0</td>\n",
              "    </tr>\n",
              "    <tr>\n",
              "      <th>2</th>\n",
              "      <td>0.0</td>\n",
              "      <td>0.5</td>\n",
              "      <td>0.5</td>\n",
              "      <td>0.0</td>\n",
              "      <td>0.647059</td>\n",
              "      <td>0.490158</td>\n",
              "      <td>1422</td>\n",
              "      <td>1.0</td>\n",
              "      <td>0.0</td>\n",
              "      <td>1.0</td>\n",
              "      <td>0.0</td>\n",
              "      <td>0.0</td>\n",
              "    </tr>\n",
              "    <tr>\n",
              "      <th>3</th>\n",
              "      <td>0.0</td>\n",
              "      <td>0.5</td>\n",
              "      <td>0.5</td>\n",
              "      <td>0.0</td>\n",
              "      <td>0.647059</td>\n",
              "      <td>0.750000</td>\n",
              "      <td>1057</td>\n",
              "      <td>1.0</td>\n",
              "      <td>0.0</td>\n",
              "      <td>1.0</td>\n",
              "      <td>0.0</td>\n",
              "      <td>0.0</td>\n",
              "    </tr>\n",
              "    <tr>\n",
              "      <th>4</th>\n",
              "      <td>1.0</td>\n",
              "      <td>0.8</td>\n",
              "      <td>1.0</td>\n",
              "      <td>0.0</td>\n",
              "      <td>0.411765</td>\n",
              "      <td>0.490158</td>\n",
              "      <td>7969</td>\n",
              "      <td>0.0</td>\n",
              "      <td>1.0</td>\n",
              "      <td>0.0</td>\n",
              "      <td>0.0</td>\n",
              "      <td>1.0</td>\n",
              "    </tr>\n",
              "  </tbody>\n",
              "</table>\n",
              "</div>"
            ],
            "text/plain": [
              "   Age  Occupation  Stay_In_Current_City_Years  ...    A    B    C\n",
              "0  0.0         0.5                         0.5  ...  1.0  0.0  0.0\n",
              "1  0.0         0.5                         0.5  ...  1.0  0.0  0.0\n",
              "2  0.0         0.5                         0.5  ...  1.0  0.0  0.0\n",
              "3  0.0         0.5                         0.5  ...  1.0  0.0  0.0\n",
              "4  1.0         0.8                         1.0  ...  0.0  0.0  1.0\n",
              "\n",
              "[5 rows x 12 columns]"
            ]
          },
          "metadata": {
            "tags": []
          },
          "execution_count": 164
        }
      ]
    },
    {
      "cell_type": "code",
      "metadata": {
        "id": "HZbC5sO5q0J9"
      },
      "source": [
        "def split_standard(df, target, test_size, random_state):\r\n",
        " \r\n",
        "  X_train, X_test, y_train, y_test = train_test_split(df.drop(target, axis=1), df[target], test_size=test_size, random_state=random_state)\r\n",
        "  SS = StandardScaler()\r\n",
        "  X_train = SS.fit_transform(X_train)  \r\n",
        "  X_test = SS.transform(X_test) \r\n",
        "\r\n",
        "  \r\n",
        "  X_train = pd.DataFrame(X_train, columns=df.columns.values[:-1]).set_index(y_train.index)  \r\n",
        "  X_test = pd.DataFrame(X_test, columns=df.columns.values[:-1]).set_index(y_test.index)  \r\n",
        "\r\n",
        "  return X_train, X_test, y_train, y_test"
      ],
      "execution_count": 165,
      "outputs": []
    },
    {
      "cell_type": "code",
      "metadata": {
        "id": "NRYIifmasGMm"
      },
      "source": [
        "X_train, X_test, y_train, y_test = split_standard(df2, 'Purchase', test_size=0.2, random_state=0)"
      ],
      "execution_count": 166,
      "outputs": []
    },
    {
      "cell_type": "code",
      "metadata": {
        "id": "zkZIhF0isSsv"
      },
      "source": [
        "model = LinearRegression()\r\n",
        "model.fit(X_train, y_train)\r\n",
        "y_pred = model.predict(X_test)"
      ],
      "execution_count": 167,
      "outputs": []
    },
    {
      "cell_type": "code",
      "metadata": {
        "colab": {
          "base_uri": "https://localhost:8080/"
        },
        "id": "mMbSfRcwsXN1",
        "outputId": "8e074000-7a15-42a7-f25b-3efe0d1ec70f"
      },
      "source": [
        "print('Coefficients: {}'.format(model.coef_))\r\n",
        "print('Intercept: {}'.format(model.intercept_))\r\n",
        "print('Mean squared error (MSE): {:.2f}'.format(mean_squared_error(y_test, y_pred)))\r\n",
        "print('Mean absolute error (MAE): {:.2f}'.format(mean_absolute_error(y_test, y_pred)))\r\n",
        "print('Coefficient of determination (R^2): {:.2f}'.format(r2_score(y_test, y_pred)))"
      ],
      "execution_count": 168,
      "outputs": [
        {
          "output_type": "stream",
          "text": [
            "Coefficients: [  158.08180407    45.07684981     7.7845294    -24.95739983\n",
            " -1418.01624061  -344.78948327  -112.7716105    112.7716105\n",
            "  -128.49615097   -64.12944338   191.79980575]\n",
            "Intercept: 9325.777826584605\n",
            "Mean squared error (MSE): 22083040.50\n",
            "Mean absolute error (MAE): 3607.48\n",
            "Coefficient of determination (R^2): 0.11\n"
          ],
          "name": "stdout"
        }
      ]
    },
    {
      "cell_type": "markdown",
      "metadata": {
        "id": "jD8c86Lpt5rn"
      },
      "source": [
        "## **3. Final Model Evaluation**"
      ]
    },
    {
      "cell_type": "code",
      "metadata": {
        "colab": {
          "base_uri": "https://localhost:8080/",
          "height": 343
        },
        "id": "WIbyE9QKT5um",
        "outputId": "dea72ebc-21f4-4f01-c5ba-3c3eb10d94ab"
      },
      "source": [
        "df_test = pd.read_csv('Black_Friday_Final_Test.csv')\r\n",
        "df_test = clean_data(df_test)\r\n",
        "df_test.head(10)"
      ],
      "execution_count": 169,
      "outputs": [
        {
          "output_type": "execute_result",
          "data": {
            "text/html": [
              "<div>\n",
              "<style scoped>\n",
              "    .dataframe tbody tr th:only-of-type {\n",
              "        vertical-align: middle;\n",
              "    }\n",
              "\n",
              "    .dataframe tbody tr th {\n",
              "        vertical-align: top;\n",
              "    }\n",
              "\n",
              "    .dataframe thead th {\n",
              "        text-align: right;\n",
              "    }\n",
              "</style>\n",
              "<table border=\"1\" class=\"dataframe\">\n",
              "  <thead>\n",
              "    <tr style=\"text-align: right;\">\n",
              "      <th></th>\n",
              "      <th>User_ID</th>\n",
              "      <th>Product_ID</th>\n",
              "      <th>Gender</th>\n",
              "      <th>Age</th>\n",
              "      <th>Occupation</th>\n",
              "      <th>City_Category</th>\n",
              "      <th>Stay_In_Current_City_Years</th>\n",
              "      <th>Marital_Status</th>\n",
              "      <th>Product_Category_1</th>\n",
              "      <th>Product_Category_2</th>\n",
              "      <th>Purchase</th>\n",
              "    </tr>\n",
              "  </thead>\n",
              "  <tbody>\n",
              "    <tr>\n",
              "      <th>0</th>\n",
              "      <td>1004655</td>\n",
              "      <td>P00031042</td>\n",
              "      <td>F</td>\n",
              "      <td>2</td>\n",
              "      <td>1</td>\n",
              "      <td>A</td>\n",
              "      <td>3</td>\n",
              "      <td>0</td>\n",
              "      <td>8</td>\n",
              "      <td>9.837301</td>\n",
              "      <td>10006</td>\n",
              "    </tr>\n",
              "    <tr>\n",
              "      <th>1</th>\n",
              "      <td>1004655</td>\n",
              "      <td>P00303042</td>\n",
              "      <td>F</td>\n",
              "      <td>2</td>\n",
              "      <td>1</td>\n",
              "      <td>A</td>\n",
              "      <td>3</td>\n",
              "      <td>0</td>\n",
              "      <td>5</td>\n",
              "      <td>9.837301</td>\n",
              "      <td>5152</td>\n",
              "    </tr>\n",
              "    <tr>\n",
              "      <th>2</th>\n",
              "      <td>1004655</td>\n",
              "      <td>P00085442</td>\n",
              "      <td>F</td>\n",
              "      <td>2</td>\n",
              "      <td>1</td>\n",
              "      <td>A</td>\n",
              "      <td>3</td>\n",
              "      <td>0</td>\n",
              "      <td>12</td>\n",
              "      <td>14.000000</td>\n",
              "      <td>1430</td>\n",
              "    </tr>\n",
              "    <tr>\n",
              "      <th>3</th>\n",
              "      <td>1004655</td>\n",
              "      <td>P00058142</td>\n",
              "      <td>F</td>\n",
              "      <td>2</td>\n",
              "      <td>1</td>\n",
              "      <td>A</td>\n",
              "      <td>3</td>\n",
              "      <td>0</td>\n",
              "      <td>3</td>\n",
              "      <td>4.000000</td>\n",
              "      <td>11063</td>\n",
              "    </tr>\n",
              "    <tr>\n",
              "      <th>4</th>\n",
              "      <td>1004655</td>\n",
              "      <td>P00316742</td>\n",
              "      <td>F</td>\n",
              "      <td>2</td>\n",
              "      <td>1</td>\n",
              "      <td>A</td>\n",
              "      <td>3</td>\n",
              "      <td>0</td>\n",
              "      <td>4</td>\n",
              "      <td>5.000000</td>\n",
              "      <td>2070</td>\n",
              "    </tr>\n",
              "    <tr>\n",
              "      <th>5</th>\n",
              "      <td>1004655</td>\n",
              "      <td>P00042742</td>\n",
              "      <td>F</td>\n",
              "      <td>2</td>\n",
              "      <td>1</td>\n",
              "      <td>A</td>\n",
              "      <td>3</td>\n",
              "      <td>0</td>\n",
              "      <td>5</td>\n",
              "      <td>14.000000</td>\n",
              "      <td>7005</td>\n",
              "    </tr>\n",
              "    <tr>\n",
              "      <th>6</th>\n",
              "      <td>1004655</td>\n",
              "      <td>P00247042</td>\n",
              "      <td>F</td>\n",
              "      <td>2</td>\n",
              "      <td>1</td>\n",
              "      <td>A</td>\n",
              "      <td>3</td>\n",
              "      <td>0</td>\n",
              "      <td>5</td>\n",
              "      <td>14.000000</td>\n",
              "      <td>5403</td>\n",
              "    </tr>\n",
              "    <tr>\n",
              "      <th>7</th>\n",
              "      <td>1004655</td>\n",
              "      <td>P00127642</td>\n",
              "      <td>F</td>\n",
              "      <td>2</td>\n",
              "      <td>1</td>\n",
              "      <td>A</td>\n",
              "      <td>3</td>\n",
              "      <td>0</td>\n",
              "      <td>1</td>\n",
              "      <td>2.000000</td>\n",
              "      <td>15692</td>\n",
              "    </tr>\n",
              "    <tr>\n",
              "      <th>8</th>\n",
              "      <td>1004656</td>\n",
              "      <td>P00139942</td>\n",
              "      <td>M</td>\n",
              "      <td>2</td>\n",
              "      <td>17</td>\n",
              "      <td>B</td>\n",
              "      <td>4</td>\n",
              "      <td>0</td>\n",
              "      <td>5</td>\n",
              "      <td>9.837301</td>\n",
              "      <td>7065</td>\n",
              "    </tr>\n",
              "    <tr>\n",
              "      <th>9</th>\n",
              "      <td>1004656</td>\n",
              "      <td>P00028842</td>\n",
              "      <td>M</td>\n",
              "      <td>2</td>\n",
              "      <td>17</td>\n",
              "      <td>B</td>\n",
              "      <td>4</td>\n",
              "      <td>0</td>\n",
              "      <td>6</td>\n",
              "      <td>8.000000</td>\n",
              "      <td>19938</td>\n",
              "    </tr>\n",
              "  </tbody>\n",
              "</table>\n",
              "</div>"
            ],
            "text/plain": [
              "   User_ID Product_ID Gender  ...  Product_Category_1  Product_Category_2 Purchase\n",
              "0  1004655  P00031042      F  ...                   8            9.837301    10006\n",
              "1  1004655  P00303042      F  ...                   5            9.837301     5152\n",
              "2  1004655  P00085442      F  ...                  12           14.000000     1430\n",
              "3  1004655  P00058142      F  ...                   3            4.000000    11063\n",
              "4  1004655  P00316742      F  ...                   4            5.000000     2070\n",
              "5  1004655  P00042742      F  ...                   5           14.000000     7005\n",
              "6  1004655  P00247042      F  ...                   5           14.000000     5403\n",
              "7  1004655  P00127642      F  ...                   1            2.000000    15692\n",
              "8  1004656  P00139942      M  ...                   5            9.837301     7065\n",
              "9  1004656  P00028842      M  ...                   6            8.000000    19938\n",
              "\n",
              "[10 rows x 11 columns]"
            ]
          },
          "metadata": {
            "tags": []
          },
          "execution_count": 169
        }
      ]
    },
    {
      "cell_type": "code",
      "metadata": {
        "colab": {
          "base_uri": "https://localhost:8080/",
          "height": 343
        },
        "id": "QHRAZISZUxbh",
        "outputId": "62a13305-fc92-49a4-ef19-03abd59f5e40"
      },
      "source": [
        "dummy_gender = pd.get_dummies(df_test['Gender'])\r\n",
        "dummy_city = pd.get_dummies(df_test['City_Category'])\r\n",
        "df_test = df_test.merge(dummy_gender, left_index=True, right_index=True)\r\n",
        "df_test = df_test.merge(dummy_city, left_index=True, right_index=True)\r\n",
        "df_test.head(10)"
      ],
      "execution_count": 170,
      "outputs": [
        {
          "output_type": "execute_result",
          "data": {
            "text/html": [
              "<div>\n",
              "<style scoped>\n",
              "    .dataframe tbody tr th:only-of-type {\n",
              "        vertical-align: middle;\n",
              "    }\n",
              "\n",
              "    .dataframe tbody tr th {\n",
              "        vertical-align: top;\n",
              "    }\n",
              "\n",
              "    .dataframe thead th {\n",
              "        text-align: right;\n",
              "    }\n",
              "</style>\n",
              "<table border=\"1\" class=\"dataframe\">\n",
              "  <thead>\n",
              "    <tr style=\"text-align: right;\">\n",
              "      <th></th>\n",
              "      <th>User_ID</th>\n",
              "      <th>Product_ID</th>\n",
              "      <th>Gender</th>\n",
              "      <th>Age</th>\n",
              "      <th>Occupation</th>\n",
              "      <th>City_Category</th>\n",
              "      <th>Stay_In_Current_City_Years</th>\n",
              "      <th>Marital_Status</th>\n",
              "      <th>Product_Category_1</th>\n",
              "      <th>Product_Category_2</th>\n",
              "      <th>Purchase</th>\n",
              "      <th>F</th>\n",
              "      <th>M</th>\n",
              "      <th>A</th>\n",
              "      <th>B</th>\n",
              "      <th>C</th>\n",
              "    </tr>\n",
              "  </thead>\n",
              "  <tbody>\n",
              "    <tr>\n",
              "      <th>0</th>\n",
              "      <td>1004655</td>\n",
              "      <td>P00031042</td>\n",
              "      <td>F</td>\n",
              "      <td>2</td>\n",
              "      <td>1</td>\n",
              "      <td>A</td>\n",
              "      <td>3</td>\n",
              "      <td>0</td>\n",
              "      <td>8</td>\n",
              "      <td>9.837301</td>\n",
              "      <td>10006</td>\n",
              "      <td>1</td>\n",
              "      <td>0</td>\n",
              "      <td>1</td>\n",
              "      <td>0</td>\n",
              "      <td>0</td>\n",
              "    </tr>\n",
              "    <tr>\n",
              "      <th>1</th>\n",
              "      <td>1004655</td>\n",
              "      <td>P00303042</td>\n",
              "      <td>F</td>\n",
              "      <td>2</td>\n",
              "      <td>1</td>\n",
              "      <td>A</td>\n",
              "      <td>3</td>\n",
              "      <td>0</td>\n",
              "      <td>5</td>\n",
              "      <td>9.837301</td>\n",
              "      <td>5152</td>\n",
              "      <td>1</td>\n",
              "      <td>0</td>\n",
              "      <td>1</td>\n",
              "      <td>0</td>\n",
              "      <td>0</td>\n",
              "    </tr>\n",
              "    <tr>\n",
              "      <th>2</th>\n",
              "      <td>1004655</td>\n",
              "      <td>P00085442</td>\n",
              "      <td>F</td>\n",
              "      <td>2</td>\n",
              "      <td>1</td>\n",
              "      <td>A</td>\n",
              "      <td>3</td>\n",
              "      <td>0</td>\n",
              "      <td>12</td>\n",
              "      <td>14.000000</td>\n",
              "      <td>1430</td>\n",
              "      <td>1</td>\n",
              "      <td>0</td>\n",
              "      <td>1</td>\n",
              "      <td>0</td>\n",
              "      <td>0</td>\n",
              "    </tr>\n",
              "    <tr>\n",
              "      <th>3</th>\n",
              "      <td>1004655</td>\n",
              "      <td>P00058142</td>\n",
              "      <td>F</td>\n",
              "      <td>2</td>\n",
              "      <td>1</td>\n",
              "      <td>A</td>\n",
              "      <td>3</td>\n",
              "      <td>0</td>\n",
              "      <td>3</td>\n",
              "      <td>4.000000</td>\n",
              "      <td>11063</td>\n",
              "      <td>1</td>\n",
              "      <td>0</td>\n",
              "      <td>1</td>\n",
              "      <td>0</td>\n",
              "      <td>0</td>\n",
              "    </tr>\n",
              "    <tr>\n",
              "      <th>4</th>\n",
              "      <td>1004655</td>\n",
              "      <td>P00316742</td>\n",
              "      <td>F</td>\n",
              "      <td>2</td>\n",
              "      <td>1</td>\n",
              "      <td>A</td>\n",
              "      <td>3</td>\n",
              "      <td>0</td>\n",
              "      <td>4</td>\n",
              "      <td>5.000000</td>\n",
              "      <td>2070</td>\n",
              "      <td>1</td>\n",
              "      <td>0</td>\n",
              "      <td>1</td>\n",
              "      <td>0</td>\n",
              "      <td>0</td>\n",
              "    </tr>\n",
              "    <tr>\n",
              "      <th>5</th>\n",
              "      <td>1004655</td>\n",
              "      <td>P00042742</td>\n",
              "      <td>F</td>\n",
              "      <td>2</td>\n",
              "      <td>1</td>\n",
              "      <td>A</td>\n",
              "      <td>3</td>\n",
              "      <td>0</td>\n",
              "      <td>5</td>\n",
              "      <td>14.000000</td>\n",
              "      <td>7005</td>\n",
              "      <td>1</td>\n",
              "      <td>0</td>\n",
              "      <td>1</td>\n",
              "      <td>0</td>\n",
              "      <td>0</td>\n",
              "    </tr>\n",
              "    <tr>\n",
              "      <th>6</th>\n",
              "      <td>1004655</td>\n",
              "      <td>P00247042</td>\n",
              "      <td>F</td>\n",
              "      <td>2</td>\n",
              "      <td>1</td>\n",
              "      <td>A</td>\n",
              "      <td>3</td>\n",
              "      <td>0</td>\n",
              "      <td>5</td>\n",
              "      <td>14.000000</td>\n",
              "      <td>5403</td>\n",
              "      <td>1</td>\n",
              "      <td>0</td>\n",
              "      <td>1</td>\n",
              "      <td>0</td>\n",
              "      <td>0</td>\n",
              "    </tr>\n",
              "    <tr>\n",
              "      <th>7</th>\n",
              "      <td>1004655</td>\n",
              "      <td>P00127642</td>\n",
              "      <td>F</td>\n",
              "      <td>2</td>\n",
              "      <td>1</td>\n",
              "      <td>A</td>\n",
              "      <td>3</td>\n",
              "      <td>0</td>\n",
              "      <td>1</td>\n",
              "      <td>2.000000</td>\n",
              "      <td>15692</td>\n",
              "      <td>1</td>\n",
              "      <td>0</td>\n",
              "      <td>1</td>\n",
              "      <td>0</td>\n",
              "      <td>0</td>\n",
              "    </tr>\n",
              "    <tr>\n",
              "      <th>8</th>\n",
              "      <td>1004656</td>\n",
              "      <td>P00139942</td>\n",
              "      <td>M</td>\n",
              "      <td>2</td>\n",
              "      <td>17</td>\n",
              "      <td>B</td>\n",
              "      <td>4</td>\n",
              "      <td>0</td>\n",
              "      <td>5</td>\n",
              "      <td>9.837301</td>\n",
              "      <td>7065</td>\n",
              "      <td>0</td>\n",
              "      <td>1</td>\n",
              "      <td>0</td>\n",
              "      <td>1</td>\n",
              "      <td>0</td>\n",
              "    </tr>\n",
              "    <tr>\n",
              "      <th>9</th>\n",
              "      <td>1004656</td>\n",
              "      <td>P00028842</td>\n",
              "      <td>M</td>\n",
              "      <td>2</td>\n",
              "      <td>17</td>\n",
              "      <td>B</td>\n",
              "      <td>4</td>\n",
              "      <td>0</td>\n",
              "      <td>6</td>\n",
              "      <td>8.000000</td>\n",
              "      <td>19938</td>\n",
              "      <td>0</td>\n",
              "      <td>1</td>\n",
              "      <td>0</td>\n",
              "      <td>1</td>\n",
              "      <td>0</td>\n",
              "    </tr>\n",
              "  </tbody>\n",
              "</table>\n",
              "</div>"
            ],
            "text/plain": [
              "   User_ID Product_ID Gender  Age  Occupation  ...  F  M  A  B  C\n",
              "0  1004655  P00031042      F    2           1  ...  1  0  1  0  0\n",
              "1  1004655  P00303042      F    2           1  ...  1  0  1  0  0\n",
              "2  1004655  P00085442      F    2           1  ...  1  0  1  0  0\n",
              "3  1004655  P00058142      F    2           1  ...  1  0  1  0  0\n",
              "4  1004655  P00316742      F    2           1  ...  1  0  1  0  0\n",
              "5  1004655  P00042742      F    2           1  ...  1  0  1  0  0\n",
              "6  1004655  P00247042      F    2           1  ...  1  0  1  0  0\n",
              "7  1004655  P00127642      F    2           1  ...  1  0  1  0  0\n",
              "8  1004656  P00139942      M    2          17  ...  0  1  0  1  0\n",
              "9  1004656  P00028842      M    2          17  ...  0  1  0  1  0\n",
              "\n",
              "[10 rows x 16 columns]"
            ]
          },
          "metadata": {
            "tags": []
          },
          "execution_count": 170
        }
      ]
    },
    {
      "cell_type": "code",
      "metadata": {
        "id": "ECLo2VvwUiNo"
      },
      "source": [
        "df_test2 = df_test\r\n",
        "df_test2 = df_test2.drop(columns = ['Product_ID','User_ID','Gender','City_Category'])"
      ],
      "execution_count": 171,
      "outputs": []
    },
    {
      "cell_type": "code",
      "metadata": {
        "id": "C1ZR31cvLdAe"
      },
      "source": [
        "df_test2 = normalize(df_test2)"
      ],
      "execution_count": 172,
      "outputs": []
    },
    {
      "cell_type": "code",
      "metadata": {
        "id": "wMyCTEdZVYGn"
      },
      "source": [
        "X_train2, X_test2, y_train2, y_test2 = split_standard(df_test2, 'Purchase', test_size=0.2, random_state=0)"
      ],
      "execution_count": 173,
      "outputs": []
    },
    {
      "cell_type": "code",
      "metadata": {
        "id": "Ylz_7goZVd7P"
      },
      "source": [
        "model2 = LinearRegression()\r\n",
        "model2.fit(X_train2, y_train2)\r\n",
        "y_pred2 = model2.predict(X_test2)"
      ],
      "execution_count": 174,
      "outputs": []
    },
    {
      "cell_type": "code",
      "metadata": {
        "colab": {
          "base_uri": "https://localhost:8080/"
        },
        "id": "xSPugPX9Vim9",
        "outputId": "2acaea39-0e00-416e-d0ad-f9288c89c9a8"
      },
      "source": [
        "print('Coefficients: {}'.format(model2.coef_))\r\n",
        "print('Intercept: {}'.format(model2.intercept_))\r\n",
        "print('Mean squared error (MSE): {:.2f}'.format(mean_squared_error(y_test2, y_pred2)))\r\n",
        "print('Mean absolute error (MAE): {:.2f}'.format(mean_absolute_error(y_test2, y_pred2)))\r\n",
        "print('Coefficient of determination (R^2): {:.2f}'.format(r2_score(y_test2, y_pred2)))"
      ],
      "execution_count": 175,
      "outputs": [
        {
          "output_type": "stream",
          "text": [
            "Coefficients: [ 1.89095251e+02  5.44800776e+01  7.07406155e+00 -1.10675286e+01\n",
            " -1.45515379e+03 -3.77479095e+02  8.35961375e+13  8.35961375e+13\n",
            " -1.44732941e+16 -1.61066422e+16 -1.50863281e+16]\n",
            "Intercept: 9382.219295442163\n",
            "Mean squared error (MSE): 21444038.76\n",
            "Mean absolute error (MAE): 3576.51\n",
            "Coefficient of determination (R^2): 0.12\n"
          ],
          "name": "stdout"
        }
      ]
    }
  ]
}